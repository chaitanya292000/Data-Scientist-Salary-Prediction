{
 "cells": [
  {
   "cell_type": "code",
   "execution_count": 3,
   "id": "03841ed4",
   "metadata": {},
   "outputs": [
    {
     "name": "stdout",
     "output_type": "stream",
     "text": [
      "Requirement already satisfied: protobuf in c:\\users\\chait\\anaconda3\\lib\\site-packages (3.19.1)\n",
      "Collecting protobuf\n",
      "  Downloading protobuf-4.21.12-cp39-cp39-win_amd64.whl (527 kB)\n",
      "Installing collected packages: protobuf\n",
      "  Attempting uninstall: protobuf\n",
      "    Found existing installation: protobuf 3.19.1\n",
      "    Uninstalling protobuf-3.19.1:\n",
      "      Successfully uninstalled protobuf-3.19.1\n",
      "Successfully installed protobuf-4.21.12\n",
      "Note: you may need to restart the kernel to use updated packages.\n"
     ]
    },
    {
     "name": "stderr",
     "output_type": "stream",
     "text": [
      "ERROR: pip's dependency resolver does not currently take into account all the packages that are installed. This behaviour is the source of the following dependency conflicts.\n",
      "tensorflow 2.10.0 requires protobuf<3.20,>=3.9.2, but you have protobuf 4.21.12 which is incompatible.\n",
      "tensorboard 2.10.0 requires protobuf<3.20,>=3.9.2, but you have protobuf 4.21.12 which is incompatible.\n",
      "streamlit 1.16.0 requires protobuf<4,>=3.12, but you have protobuf 4.21.12 which is incompatible.\n",
      "mysql-connector-python 8.0.30 requires protobuf<=3.20.1,>=3.11.0, but you have protobuf 4.21.12 which is incompatible.\n"
     ]
    }
   ],
   "source": [
    "pip install --upgrade protobuf"
   ]
  },
  {
   "cell_type": "code",
   "execution_count": 6,
   "id": "f73a869d",
   "metadata": {},
   "outputs": [
    {
     "ename": "FileNotFoundError",
     "evalue": "[Errno 2] No such file or directory: 'predict_salary.pkl'",
     "output_type": "error",
     "traceback": [
      "\u001b[1;31m---------------------------------------------------------------------------\u001b[0m",
      "\u001b[1;31mFileNotFoundError\u001b[0m                         Traceback (most recent call last)",
      "Input \u001b[1;32mIn [6]\u001b[0m, in \u001b[0;36m<cell line: 12>\u001b[1;34m()\u001b[0m\n\u001b[0;32m      7\u001b[0m \u001b[38;5;28;01mfrom\u001b[39;00m \u001b[38;5;21;01mPIL\u001b[39;00m \u001b[38;5;28;01mimport\u001b[39;00m Image\n\u001b[0;32m      9\u001b[0m \u001b[38;5;66;03m#app=Flask(__name__)\u001b[39;00m\n\u001b[0;32m     10\u001b[0m \u001b[38;5;66;03m#Swagger(app)\u001b[39;00m\n\u001b[1;32m---> 12\u001b[0m pickle_in \u001b[38;5;241m=\u001b[39m \u001b[38;5;28;43mopen\u001b[39;49m\u001b[43m(\u001b[49m\u001b[38;5;124;43m\"\u001b[39;49m\u001b[38;5;124;43mpredict_salary.pkl\u001b[39;49m\u001b[38;5;124;43m\"\u001b[39;49m\u001b[43m,\u001b[49m\u001b[38;5;124;43m\"\u001b[39;49m\u001b[38;5;124;43mrb\u001b[39;49m\u001b[38;5;124;43m\"\u001b[39;49m\u001b[43m)\u001b[49m\n\u001b[0;32m     13\u001b[0m predict_salary \u001b[38;5;241m=\u001b[39mpickle\u001b[38;5;241m.\u001b[39mload(pickle_in)\n\u001b[0;32m     15\u001b[0m \u001b[38;5;66;03m#@app.route('/')\u001b[39;00m\n",
      "\u001b[1;31mFileNotFoundError\u001b[0m: [Errno 2] No such file or directory: 'predict_salary.pkl'"
     ]
    }
   ],
   "source": [
    "import numpy as np\n",
    "import pickle\n",
    "import pandas as pd\n",
    "#from flasgger import Swagger\n",
    "import streamlit as st \n",
    "\n",
    "from PIL import Image\n",
    "\n",
    "#app=Flask(__name__)\n",
    "#Swagger(app)\n",
    "\n",
    "pickle_in = open(\"predict_salary.pkl\",\"rb\")\n",
    "predict_salary =pickle.load(pickle_in)\n",
    "\n",
    "#@app.route('/')\n",
    "def welcome():\n",
    "    return \"Welcome All\"\n",
    "\n",
    "#@app.route('/predict',methods=[\"Get\"])\n",
    "def predict_data_scientist_salary( company_rating, company_founded, competitors_count,\n",
    "                company_sector , company_ownership , job_title , job_in_headquarters ,\n",
    "                job_seniority , job_skills ):\n",
    "    \n",
    "    \"\"\"Let's Authenticate the Banks Note \n",
    "    This is using docstrings for specifications.\n",
    "    ---\n",
    "    parameters:  \n",
    "      - name: variance\n",
    "        in: query\n",
    "        type: number\n",
    "        required: true\n",
    "      - name: skewness\n",
    "        in: query\n",
    "        type: number\n",
    "        required: true\n",
    "      - name: curtosis\n",
    "        in: query\n",
    "        type: number\n",
    "        required: true\n",
    "      - name: entropy\n",
    "        in: query\n",
    "        type: number\n",
    "        required: true\n",
    "    responses:\n",
    "        200:\n",
    "            description: The output values\n",
    "        \n",
    "    \"\"\"\n",
    "   \n",
    "    prediction=rf.predict([[company_rating, company_founded, competitors_count,\n",
    "                company_sector , company_ownership , job_title , job_in_headquarters ,\n",
    "                job_seniority , job_skills]])\n",
    "    print(prediction)\n",
    "    return prediction\n",
    "\n",
    "\n",
    "\n",
    "def main():\n",
    "    st.title(\" Data Scientist Salary Prediction \")\n",
    "    html_temp = \"\"\"\n",
    "    <div style=\"background-color:tomato;padding:10px\">\n",
    "    <h2 style=\"color:white;text-align:center;\">Streamlit Data Scientist Salary Prediction ML App </h2>\n",
    "    </div>\n",
    "    \"\"\"\n",
    "    st.markdown(html_temp,unsafe_allow_html=True)\n",
    "    company_rating = st.text_input(\"Company Rating :\",\"Enter between 0-5\")\n",
    "    company_founded = st.text_input(\"Company Founded :\",\"Enter Year \")\n",
    "    competitors_count = st.selectbox('Competitors Count :', ['1', '2', '3', '4', '5'])\n",
    "    company_sector = st.selectbox('Company Sector :', ['Biotech & Pharmaceuticals', 'Health Care', 'Business Services', 'Information Technology'])\n",
    "    company_ownership = st.radio('Company Ownership:', ('Public','Private'))\n",
    "    job_title = st.radio('Job Title :', ('Data Analyst','Data Scientist'))\n",
    "    job_in_headquarters = st.radio(\"job in Headquarters :\",(\"0\",\"1\"))\n",
    "    job_seniority = st.text_input('Job Seniority :', [\"Enter other: 0, jr: 1, sr: 2\"])\n",
    "    job_skills = st.selectbox('job_skills :', ['excel', 'python', 'tableau', 'sql'])\n",
    "    result=\"\"\n",
    "    if st.button(\"Predict\"):\n",
    "        result=predict_data_scientist_salary(company_rating, company_founded, competitors_count,\n",
    "                company_sector , company_ownership , job_title , job_in_headquarters ,\n",
    "                job_seniority , job_skills)\n",
    "    st.success('The output is {}'.format(result))\n",
    "    if st.button(\"About\"):\n",
    "        st.text(\"Lets LEarn\")\n",
    "        st.text(\"Built with Streamlit\")\n",
    "\n",
    "if __name__=='__main__':\n",
    "    main()\n",
    "    "
   ]
  },
  {
   "cell_type": "code",
   "execution_count": null,
   "id": "a6160922",
   "metadata": {},
   "outputs": [],
   "source": []
  }
 ],
 "metadata": {
  "kernelspec": {
   "display_name": "Python 3 (ipykernel)",
   "language": "python",
   "name": "python3"
  },
  "language_info": {
   "codemirror_mode": {
    "name": "ipython",
    "version": 3
   },
   "file_extension": ".py",
   "mimetype": "text/x-python",
   "name": "python",
   "nbconvert_exporter": "python",
   "pygments_lexer": "ipython3",
   "version": "3.9.12"
  }
 },
 "nbformat": 4,
 "nbformat_minor": 5
}
